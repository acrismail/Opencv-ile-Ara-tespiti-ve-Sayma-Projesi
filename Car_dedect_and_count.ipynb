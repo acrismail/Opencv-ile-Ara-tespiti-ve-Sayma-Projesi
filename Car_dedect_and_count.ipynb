{
 "cells": [
  {
   "cell_type": "markdown",
   "id": "96a6e1c5-a7ba-45eb-a839-3ebe489dc37e",
   "metadata": {},
   "source": [
    "### OPENCV ARAÇ ALGILAMA VE SAYMA PROJESİ"
   ]
  },
  {
   "cell_type": "code",
   "execution_count": 53,
   "id": "81de75c5-7898-4bca-819f-12f36db232bd",
   "metadata": {},
   "outputs": [],
   "source": [
    "import cv2\n",
    "import numpy as np\n",
    " "
   ]
  },
  {
   "cell_type": "code",
   "execution_count": 55,
   "id": "e2e3fb60-ee69-4221-afdd-973a9a54b636",
   "metadata": {},
   "outputs": [],
   "source": [
    "min_contour_width = 40  \n",
    "min_contour_height = 40  \n",
    "offset = 10  \n",
    "line_height = 550  \n",
    "matches = []\n",
    "vehicles = 0\n"
   ]
  },
  {
   "cell_type": "code",
   "execution_count": 57,
   "id": "9446dcbb-2109-4369-a0f0-bf9fb50ad0f6",
   "metadata": {},
   "outputs": [],
   "source": [
    "def get_centrolid(x, y, w, h):\n",
    "   x1 = int(w / 2)\n",
    "   y1 = int(h / 2)\n",
    " \n",
    "   cx = x + x1\n",
    "   cy = y + y1\n",
    "   return cx, cy"
   ]
  },
  {
   "cell_type": "code",
   "execution_count": 59,
   "id": "877b93de-1c4f-4165-b91d-616f9a6b293d",
   "metadata": {},
   "outputs": [],
   "source": [
    "cap = cv2.VideoCapture('Resourches/trafic.mp4')\n"
   ]
  },
  {
   "cell_type": "code",
   "execution_count": 61,
   "id": "68d3e28a-b231-445b-98ed-2d76174a5702",
   "metadata": {},
   "outputs": [],
   "source": [
    "cap.set(3, 1920)\n",
    "cap.set(4, 1080)\n",
    " \n",
    "if cap.isOpened():\n",
    "   ret, frame1 = cap.read()\n",
    "else:\n",
    "   ret = False\n",
    "ret, frame1 = cap.read()\n",
    "ret, frame2 = cap.read()"
   ]
  },
  {
   "cell_type": "code",
   "execution_count": 63,
   "id": "b8be1201-ad7f-4995-b5f9-c1c59a71b2c6",
   "metadata": {},
   "outputs": [],
   "source": [
    "while ret:\n",
    "   d = cv2.absdiff(frame1, frame2)\n",
    "   grey = cv2.cvtColor(d, cv2.COLOR_BGR2GRAY)  # Görüntüyü gri formata dönüştür.\n",
    " \n",
    "   blur = cv2.GaussianBlur(grey, (5, 5), 0) # görüntünün bulanıklaştırılması\n",
    " \n",
    "   ret, th = cv2.threshold(blur, 20, 255, cv2.THRESH_BINARY) # bulanıklaştırılan görüntü üzerinde eşikleme uyg.\n",
    "   dilated = cv2.dilate(th, np.ones((3, 3))) #genişletme uygulanması \n",
    "   kernel = cv2.getStructuringElement(cv2.MORPH_ELLIPSE, (2, 2))\n",
    " \n",
    "  \n",
    "   closing = cv2.morphologyEx(dilated, cv2.MORPH_CLOSE, kernel)\n",
    "   contours, h = cv2.findContours(\n",
    "       closing, cv2.RETR_TREE, cv2.CHAIN_APPROX_SIMPLE)\n",
    "   for(i, c) in enumerate(contours):\n",
    "       (x, y, w, h) = cv2.boundingRect(c)\n",
    "       contour_valid = (w >= min_contour_width) and (\n",
    "           h >= min_contour_height)\n",
    " \n",
    "       if not contour_valid:\n",
    "           continue\n",
    "       cv2.rectangle(frame1, (x-10, y-10), (x+w+10, y+h+10), (255, 0, 0), 2)\n",
    " \n",
    "       cv2.line(frame1, (0, line_height), (1200, line_height), (0, 255, 0), 2)\n",
    "       centrolid = get_centrolid(x, y, w, h)\n",
    "       matches.append(centrolid)\n",
    "       cv2.circle(frame1, centrolid, 5, (0, 255, 0), -1)\n",
    "       cx, cy = get_centrolid(x, y, w, h)\n",
    "       for (x, y) in matches:\n",
    "           if y < (line_height+offset) and y > (line_height-offset):\n",
    "               vehicles = vehicles +1\n",
    "               matches.remove((x, y))\n",
    " \n",
    "   cv2.putText(frame1, \"Total Vehicle Detected: \" + str(vehicles), (10, 90), cv2.FONT_HERSHEY_SIMPLEX, 1,\n",
    "               (0, 170, 0), 2)\n",
    " \n",
    " \n",
    " \n",
    "   cv2.imshow(\"Vehicle Detection\", frame1)\n",
    "   if cv2.waitKey(1) == 27:\n",
    "       break\n",
    "   frame1 = frame2\n",
    "   ret, frame2 = cap.read()\n",
    " \n",
    "cv2.destroyAllWindows()\n",
    "cap.release()"
   ]
  },
  {
   "cell_type": "code",
   "execution_count": null,
   "id": "148a80b8-250e-4d75-91c7-b5759826f763",
   "metadata": {},
   "outputs": [],
   "source": []
  }
 ],
 "metadata": {
  "kernelspec": {
   "display_name": "Python 3 (ipykernel)",
   "language": "python",
   "name": "python3"
  },
  "language_info": {
   "codemirror_mode": {
    "name": "ipython",
    "version": 3
   },
   "file_extension": ".py",
   "mimetype": "text/x-python",
   "name": "python",
   "nbconvert_exporter": "python",
   "pygments_lexer": "ipython3",
   "version": "3.12.7"
  }
 },
 "nbformat": 4,
 "nbformat_minor": 5
}
